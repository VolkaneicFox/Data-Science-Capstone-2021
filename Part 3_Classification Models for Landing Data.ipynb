{
 "cells": [
  {
   "cell_type": "markdown",
   "id": "5123755c",
   "metadata": {},
   "source": [
    "Note on issues with using LAUNCH data: Following the initial classification exercises, there are only four points of unsuccessful launches against 122 successful launches in the given data. Thus, any form of classification based on launch data will be compromised since the binary outcome is not varied. The models can only predict reliably if they are given an output variable that exhibits satisfactory variance (0,1) for each feature value. For this purpose, in the GridSearch Cross Validation we set cv=3."
   ]
  },
  {
   "cell_type": "code",
   "execution_count": 1,
   "id": "8bcfb318",
   "metadata": {},
   "outputs": [],
   "source": [
    "import pandas as pd\n",
    "import matplotlib.pyplot as plt\n",
    "import numpy as np"
   ]
  },
  {
   "cell_type": "code",
   "execution_count": 2,
   "id": "fd0fded2",
   "metadata": {},
   "outputs": [],
   "source": [
    "#The confusion matrix figure function, I will use this for all the other classification models\n",
    "import itertools\n",
    "def plot_confusion_matrix(cm, classes,\n",
    "                          normalize=False,\n",
    "                          title='Confusion matrix',\n",
    "                          cmap=plt.cm.Blues):\n",
    "    \"\"\"\n",
    "    This function prints and plots the confusion matrix.\n",
    "    Normalization can be applied by setting `normalize=True`.\n",
    "    \"\"\"\n",
    "    if normalize:\n",
    "        cm = cm.astype('float') / cm.sum(axis=1)[:, np.newaxis]\n",
    "        print(\"Normalized confusion matrix\")\n",
    "    else:\n",
    "        print('Confusion matrix, without normalization')\n",
    "\n",
    "    print(cm)\n",
    "\n",
    "    plt.imshow(cm, interpolation='nearest', cmap=cmap)\n",
    "    plt.title(title)\n",
    "    plt.colorbar()\n",
    "    tick_marks = np.arange(len(classes))\n",
    "    plt.xticks(tick_marks, classes, rotation=45)\n",
    "    plt.yticks(tick_marks, classes)\n",
    "\n",
    "    fmt = '.2f' if normalize else 'd'\n",
    "    thresh = cm.max() / 2.\n",
    "    for i, j in itertools.product(range(cm.shape[0]), range(cm.shape[1])):\n",
    "        plt.text(j, i, format(cm[i, j], fmt),\n",
    "                 horizontalalignment=\"center\",\n",
    "                 color=\"white\" if cm[i, j] > thresh else \"black\")\n",
    "\n",
    "    plt.tight_layout()\n",
    "    plt.ylabel('True label')\n",
    "    plt.xlabel('Predicted label')"
   ]
  },
  {
   "cell_type": "code",
   "execution_count": 3,
   "id": "93c03631",
   "metadata": {},
   "outputs": [],
   "source": [
    "score_df = pd.DataFrame(columns = [\"Accuracy Score\",\"F1 Score\",\"Jaccard Score\",\"Log Loss\"])"
   ]
  },
  {
   "cell_type": "code",
   "execution_count": 4,
   "id": "3d82616d",
   "metadata": {},
   "outputs": [],
   "source": [
    "pd.set_option('display.max_columns',None) #display all column names in the dataframe\n",
    "pd.set_option('display.max_colwidth',None) #display all the data in the dataframe"
   ]
  },
  {
   "cell_type": "code",
   "execution_count": 5,
   "id": "db54e170",
   "metadata": {},
   "outputs": [],
   "source": [
    "from sklearn.metrics import accuracy_score, jaccard_score, f1_score, log_loss, classification_report, confusion_matrix"
   ]
  },
  {
   "cell_type": "code",
   "execution_count": 6,
   "id": "da2e8fcc",
   "metadata": {},
   "outputs": [],
   "source": [
    "from sklearn.model_selection import GridSearchCV"
   ]
  },
  {
   "cell_type": "code",
   "execution_count": 7,
   "id": "0d90c0da",
   "metadata": {},
   "outputs": [
    {
     "data": {
      "text/html": [
       "<div>\n",
       "<style scoped>\n",
       "    .dataframe tbody tr th:only-of-type {\n",
       "        vertical-align: middle;\n",
       "    }\n",
       "\n",
       "    .dataframe tbody tr th {\n",
       "        vertical-align: top;\n",
       "    }\n",
       "\n",
       "    .dataframe thead th {\n",
       "        text-align: right;\n",
       "    }\n",
       "</style>\n",
       "<table border=\"1\" class=\"dataframe\">\n",
       "  <thead>\n",
       "    <tr style=\"text-align: right;\">\n",
       "      <th></th>\n",
       "      <th>Unnamed: 0</th>\n",
       "      <th>Date</th>\n",
       "      <th>Rocket</th>\n",
       "      <th>Launch Site</th>\n",
       "      <th>Launch Latitude</th>\n",
       "      <th>Launch Longitude</th>\n",
       "      <th>Flight Number</th>\n",
       "      <th>Flight</th>\n",
       "      <th>Orbit</th>\n",
       "      <th>Payload (Kg)</th>\n",
       "      <th>Land Site</th>\n",
       "      <th>Failed Launch</th>\n",
       "      <th>Successful Launch</th>\n",
       "      <th>gridfins_False</th>\n",
       "      <th>gridfins_True</th>\n",
       "      <th>legs_False</th>\n",
       "      <th>legs_True</th>\n",
       "      <th>reused_False</th>\n",
       "      <th>reused_True</th>\n",
       "      <th>landing_attempt_False</th>\n",
       "      <th>landing_attempt_True</th>\n",
       "      <th>Failed Landing</th>\n",
       "      <th>Successful Landing</th>\n",
       "      <th>Landing ASDS</th>\n",
       "      <th>Landing Ocean</th>\n",
       "      <th>Landing RTLS</th>\n",
       "    </tr>\n",
       "  </thead>\n",
       "  <tbody>\n",
       "    <tr>\n",
       "      <th>0</th>\n",
       "      <td>0</td>\n",
       "      <td>2006-03-24</td>\n",
       "      <td>Falcon 1</td>\n",
       "      <td>Kwajalein Atoll</td>\n",
       "      <td>9.047721</td>\n",
       "      <td>167.743129</td>\n",
       "      <td>1</td>\n",
       "      <td>1</td>\n",
       "      <td>LEO</td>\n",
       "      <td>20.00</td>\n",
       "      <td>NaN</td>\n",
       "      <td>1</td>\n",
       "      <td>0</td>\n",
       "      <td>1</td>\n",
       "      <td>0</td>\n",
       "      <td>1</td>\n",
       "      <td>0</td>\n",
       "      <td>1</td>\n",
       "      <td>0</td>\n",
       "      <td>1</td>\n",
       "      <td>0</td>\n",
       "      <td>0</td>\n",
       "      <td>0</td>\n",
       "      <td>0</td>\n",
       "      <td>0</td>\n",
       "      <td>0</td>\n",
       "    </tr>\n",
       "    <tr>\n",
       "      <th>1</th>\n",
       "      <td>1</td>\n",
       "      <td>2007-03-21</td>\n",
       "      <td>Falcon 1</td>\n",
       "      <td>Kwajalein Atoll</td>\n",
       "      <td>9.047721</td>\n",
       "      <td>167.743129</td>\n",
       "      <td>2</td>\n",
       "      <td>1</td>\n",
       "      <td>LEO</td>\n",
       "      <td>128.33</td>\n",
       "      <td>NaN</td>\n",
       "      <td>1</td>\n",
       "      <td>0</td>\n",
       "      <td>1</td>\n",
       "      <td>0</td>\n",
       "      <td>1</td>\n",
       "      <td>0</td>\n",
       "      <td>1</td>\n",
       "      <td>0</td>\n",
       "      <td>1</td>\n",
       "      <td>0</td>\n",
       "      <td>0</td>\n",
       "      <td>0</td>\n",
       "      <td>0</td>\n",
       "      <td>0</td>\n",
       "      <td>0</td>\n",
       "    </tr>\n",
       "    <tr>\n",
       "      <th>2</th>\n",
       "      <td>2</td>\n",
       "      <td>2008-09-28</td>\n",
       "      <td>Falcon 1</td>\n",
       "      <td>Kwajalein Atoll</td>\n",
       "      <td>9.047721</td>\n",
       "      <td>167.743129</td>\n",
       "      <td>4</td>\n",
       "      <td>1</td>\n",
       "      <td>LEO</td>\n",
       "      <td>165.00</td>\n",
       "      <td>NaN</td>\n",
       "      <td>0</td>\n",
       "      <td>1</td>\n",
       "      <td>1</td>\n",
       "      <td>0</td>\n",
       "      <td>1</td>\n",
       "      <td>0</td>\n",
       "      <td>1</td>\n",
       "      <td>0</td>\n",
       "      <td>1</td>\n",
       "      <td>0</td>\n",
       "      <td>0</td>\n",
       "      <td>0</td>\n",
       "      <td>0</td>\n",
       "      <td>0</td>\n",
       "      <td>0</td>\n",
       "    </tr>\n",
       "    <tr>\n",
       "      <th>3</th>\n",
       "      <td>3</td>\n",
       "      <td>2009-07-13</td>\n",
       "      <td>Falcon 1</td>\n",
       "      <td>Kwajalein Atoll</td>\n",
       "      <td>9.047721</td>\n",
       "      <td>167.743129</td>\n",
       "      <td>5</td>\n",
       "      <td>1</td>\n",
       "      <td>LEO</td>\n",
       "      <td>200.00</td>\n",
       "      <td>NaN</td>\n",
       "      <td>0</td>\n",
       "      <td>1</td>\n",
       "      <td>1</td>\n",
       "      <td>0</td>\n",
       "      <td>1</td>\n",
       "      <td>0</td>\n",
       "      <td>1</td>\n",
       "      <td>0</td>\n",
       "      <td>1</td>\n",
       "      <td>0</td>\n",
       "      <td>0</td>\n",
       "      <td>0</td>\n",
       "      <td>0</td>\n",
       "      <td>0</td>\n",
       "      <td>0</td>\n",
       "    </tr>\n",
       "    <tr>\n",
       "      <th>4</th>\n",
       "      <td>4</td>\n",
       "      <td>2010-06-04</td>\n",
       "      <td>Falcon 9</td>\n",
       "      <td>CCSFS SLC 40</td>\n",
       "      <td>28.561857</td>\n",
       "      <td>-80.577366</td>\n",
       "      <td>6</td>\n",
       "      <td>1</td>\n",
       "      <td>LEO</td>\n",
       "      <td>7341.20</td>\n",
       "      <td>NaN</td>\n",
       "      <td>0</td>\n",
       "      <td>1</td>\n",
       "      <td>1</td>\n",
       "      <td>0</td>\n",
       "      <td>1</td>\n",
       "      <td>0</td>\n",
       "      <td>1</td>\n",
       "      <td>0</td>\n",
       "      <td>1</td>\n",
       "      <td>0</td>\n",
       "      <td>0</td>\n",
       "      <td>0</td>\n",
       "      <td>0</td>\n",
       "      <td>0</td>\n",
       "      <td>0</td>\n",
       "    </tr>\n",
       "  </tbody>\n",
       "</table>\n",
       "</div>"
      ],
      "text/plain": [
       "   Unnamed: 0        Date    Rocket      Launch Site  Launch Latitude  \\\n",
       "0           0  2006-03-24  Falcon 1  Kwajalein Atoll         9.047721   \n",
       "1           1  2007-03-21  Falcon 1  Kwajalein Atoll         9.047721   \n",
       "2           2  2008-09-28  Falcon 1  Kwajalein Atoll         9.047721   \n",
       "3           3  2009-07-13  Falcon 1  Kwajalein Atoll         9.047721   \n",
       "4           4  2010-06-04  Falcon 9     CCSFS SLC 40        28.561857   \n",
       "\n",
       "   Launch Longitude  Flight Number  Flight Orbit  Payload (Kg) Land Site  \\\n",
       "0        167.743129              1       1   LEO         20.00       NaN   \n",
       "1        167.743129              2       1   LEO        128.33       NaN   \n",
       "2        167.743129              4       1   LEO        165.00       NaN   \n",
       "3        167.743129              5       1   LEO        200.00       NaN   \n",
       "4        -80.577366              6       1   LEO       7341.20       NaN   \n",
       "\n",
       "   Failed Launch  Successful Launch  gridfins_False  gridfins_True  \\\n",
       "0              1                  0               1              0   \n",
       "1              1                  0               1              0   \n",
       "2              0                  1               1              0   \n",
       "3              0                  1               1              0   \n",
       "4              0                  1               1              0   \n",
       "\n",
       "   legs_False  legs_True  reused_False  reused_True  landing_attempt_False  \\\n",
       "0           1          0             1            0                      1   \n",
       "1           1          0             1            0                      1   \n",
       "2           1          0             1            0                      1   \n",
       "3           1          0             1            0                      1   \n",
       "4           1          0             1            0                      1   \n",
       "\n",
       "   landing_attempt_True  Failed Landing  Successful Landing  Landing ASDS  \\\n",
       "0                     0               0                   0             0   \n",
       "1                     0               0                   0             0   \n",
       "2                     0               0                   0             0   \n",
       "3                     0               0                   0             0   \n",
       "4                     0               0                   0             0   \n",
       "\n",
       "   Landing Ocean  Landing RTLS  \n",
       "0              0             0  \n",
       "1              0             0  \n",
       "2              0             0  \n",
       "3              0             0  \n",
       "4              0             0  "
      ]
     },
     "execution_count": 7,
     "metadata": {},
     "output_type": "execute_result"
    }
   ],
   "source": [
    "main_data_df = pd.read_csv(\"spacex_df_pretty.csv\")\n",
    "main_data_df.head()"
   ]
  },
  {
   "cell_type": "code",
   "execution_count": 8,
   "id": "25ea03c3",
   "metadata": {},
   "outputs": [
    {
     "data": {
      "text/html": [
       "<div>\n",
       "<style scoped>\n",
       "    .dataframe tbody tr th:only-of-type {\n",
       "        vertical-align: middle;\n",
       "    }\n",
       "\n",
       "    .dataframe tbody tr th {\n",
       "        vertical-align: top;\n",
       "    }\n",
       "\n",
       "    .dataframe thead th {\n",
       "        text-align: right;\n",
       "    }\n",
       "</style>\n",
       "<table border=\"1\" class=\"dataframe\">\n",
       "  <thead>\n",
       "    <tr style=\"text-align: right;\">\n",
       "      <th></th>\n",
       "      <th>Unnamed: 0</th>\n",
       "      <th>Date</th>\n",
       "      <th>Rocket</th>\n",
       "      <th>Launch Site</th>\n",
       "      <th>Launch Latitude</th>\n",
       "      <th>Launch Longitude</th>\n",
       "      <th>Flight Number</th>\n",
       "      <th>Flight</th>\n",
       "      <th>Orbit</th>\n",
       "      <th>Payload (Kg)</th>\n",
       "      <th>Land Site</th>\n",
       "      <th>Failed Launch</th>\n",
       "      <th>Successful Launch</th>\n",
       "      <th>gridfins_False</th>\n",
       "      <th>gridfins_True</th>\n",
       "      <th>legs_False</th>\n",
       "      <th>legs_True</th>\n",
       "      <th>reused_False</th>\n",
       "      <th>reused_True</th>\n",
       "      <th>landing_attempt_False</th>\n",
       "      <th>landing_attempt_True</th>\n",
       "      <th>Failed Landing</th>\n",
       "      <th>Successful Landing</th>\n",
       "      <th>Landing ASDS</th>\n",
       "      <th>Landing Ocean</th>\n",
       "      <th>Landing RTLS</th>\n",
       "    </tr>\n",
       "  </thead>\n",
       "  <tbody>\n",
       "    <tr>\n",
       "      <th>0</th>\n",
       "      <td>0</td>\n",
       "      <td>2006-03-24</td>\n",
       "      <td>Falcon 1</td>\n",
       "      <td>Kwajalein Atoll</td>\n",
       "      <td>9.047721</td>\n",
       "      <td>167.743129</td>\n",
       "      <td>1</td>\n",
       "      <td>1</td>\n",
       "      <td>LEO</td>\n",
       "      <td>20.00</td>\n",
       "      <td>NaN</td>\n",
       "      <td>1</td>\n",
       "      <td>0</td>\n",
       "      <td>1</td>\n",
       "      <td>0</td>\n",
       "      <td>1</td>\n",
       "      <td>0</td>\n",
       "      <td>1</td>\n",
       "      <td>0</td>\n",
       "      <td>1</td>\n",
       "      <td>0</td>\n",
       "      <td>0</td>\n",
       "      <td>0</td>\n",
       "      <td>0</td>\n",
       "      <td>0</td>\n",
       "      <td>0</td>\n",
       "    </tr>\n",
       "    <tr>\n",
       "      <th>1</th>\n",
       "      <td>1</td>\n",
       "      <td>2007-03-21</td>\n",
       "      <td>Falcon 1</td>\n",
       "      <td>Kwajalein Atoll</td>\n",
       "      <td>9.047721</td>\n",
       "      <td>167.743129</td>\n",
       "      <td>2</td>\n",
       "      <td>1</td>\n",
       "      <td>LEO</td>\n",
       "      <td>128.33</td>\n",
       "      <td>NaN</td>\n",
       "      <td>1</td>\n",
       "      <td>0</td>\n",
       "      <td>1</td>\n",
       "      <td>0</td>\n",
       "      <td>1</td>\n",
       "      <td>0</td>\n",
       "      <td>1</td>\n",
       "      <td>0</td>\n",
       "      <td>1</td>\n",
       "      <td>0</td>\n",
       "      <td>0</td>\n",
       "      <td>0</td>\n",
       "      <td>0</td>\n",
       "      <td>0</td>\n",
       "      <td>0</td>\n",
       "    </tr>\n",
       "    <tr>\n",
       "      <th>2</th>\n",
       "      <td>2</td>\n",
       "      <td>2008-09-28</td>\n",
       "      <td>Falcon 1</td>\n",
       "      <td>Kwajalein Atoll</td>\n",
       "      <td>9.047721</td>\n",
       "      <td>167.743129</td>\n",
       "      <td>4</td>\n",
       "      <td>1</td>\n",
       "      <td>LEO</td>\n",
       "      <td>165.00</td>\n",
       "      <td>NaN</td>\n",
       "      <td>0</td>\n",
       "      <td>1</td>\n",
       "      <td>1</td>\n",
       "      <td>0</td>\n",
       "      <td>1</td>\n",
       "      <td>0</td>\n",
       "      <td>1</td>\n",
       "      <td>0</td>\n",
       "      <td>1</td>\n",
       "      <td>0</td>\n",
       "      <td>0</td>\n",
       "      <td>0</td>\n",
       "      <td>0</td>\n",
       "      <td>0</td>\n",
       "      <td>0</td>\n",
       "    </tr>\n",
       "    <tr>\n",
       "      <th>3</th>\n",
       "      <td>3</td>\n",
       "      <td>2009-07-13</td>\n",
       "      <td>Falcon 1</td>\n",
       "      <td>Kwajalein Atoll</td>\n",
       "      <td>9.047721</td>\n",
       "      <td>167.743129</td>\n",
       "      <td>5</td>\n",
       "      <td>1</td>\n",
       "      <td>LEO</td>\n",
       "      <td>200.00</td>\n",
       "      <td>NaN</td>\n",
       "      <td>0</td>\n",
       "      <td>1</td>\n",
       "      <td>1</td>\n",
       "      <td>0</td>\n",
       "      <td>1</td>\n",
       "      <td>0</td>\n",
       "      <td>1</td>\n",
       "      <td>0</td>\n",
       "      <td>1</td>\n",
       "      <td>0</td>\n",
       "      <td>0</td>\n",
       "      <td>0</td>\n",
       "      <td>0</td>\n",
       "      <td>0</td>\n",
       "      <td>0</td>\n",
       "    </tr>\n",
       "    <tr>\n",
       "      <th>4</th>\n",
       "      <td>4</td>\n",
       "      <td>2010-06-04</td>\n",
       "      <td>Falcon 9</td>\n",
       "      <td>CCSFS SLC 40</td>\n",
       "      <td>28.561857</td>\n",
       "      <td>-80.577366</td>\n",
       "      <td>6</td>\n",
       "      <td>1</td>\n",
       "      <td>LEO</td>\n",
       "      <td>7341.20</td>\n",
       "      <td>NaN</td>\n",
       "      <td>0</td>\n",
       "      <td>1</td>\n",
       "      <td>1</td>\n",
       "      <td>0</td>\n",
       "      <td>1</td>\n",
       "      <td>0</td>\n",
       "      <td>1</td>\n",
       "      <td>0</td>\n",
       "      <td>1</td>\n",
       "      <td>0</td>\n",
       "      <td>0</td>\n",
       "      <td>0</td>\n",
       "      <td>0</td>\n",
       "      <td>0</td>\n",
       "      <td>0</td>\n",
       "    </tr>\n",
       "  </tbody>\n",
       "</table>\n",
       "</div>"
      ],
      "text/plain": [
       "   Unnamed: 0        Date    Rocket      Launch Site  Launch Latitude  \\\n",
       "0           0  2006-03-24  Falcon 1  Kwajalein Atoll         9.047721   \n",
       "1           1  2007-03-21  Falcon 1  Kwajalein Atoll         9.047721   \n",
       "2           2  2008-09-28  Falcon 1  Kwajalein Atoll         9.047721   \n",
       "3           3  2009-07-13  Falcon 1  Kwajalein Atoll         9.047721   \n",
       "4           4  2010-06-04  Falcon 9     CCSFS SLC 40        28.561857   \n",
       "\n",
       "   Launch Longitude  Flight Number  Flight Orbit  Payload (Kg) Land Site  \\\n",
       "0        167.743129              1       1   LEO         20.00       NaN   \n",
       "1        167.743129              2       1   LEO        128.33       NaN   \n",
       "2        167.743129              4       1   LEO        165.00       NaN   \n",
       "3        167.743129              5       1   LEO        200.00       NaN   \n",
       "4        -80.577366              6       1   LEO       7341.20       NaN   \n",
       "\n",
       "   Failed Launch  Successful Launch  gridfins_False  gridfins_True  \\\n",
       "0              1                  0               1              0   \n",
       "1              1                  0               1              0   \n",
       "2              0                  1               1              0   \n",
       "3              0                  1               1              0   \n",
       "4              0                  1               1              0   \n",
       "\n",
       "   legs_False  legs_True  reused_False  reused_True  landing_attempt_False  \\\n",
       "0           1          0             1            0                      1   \n",
       "1           1          0             1            0                      1   \n",
       "2           1          0             1            0                      1   \n",
       "3           1          0             1            0                      1   \n",
       "4           1          0             1            0                      1   \n",
       "\n",
       "   landing_attempt_True  Failed Landing  Successful Landing  Landing ASDS  \\\n",
       "0                     0               0                   0             0   \n",
       "1                     0               0                   0             0   \n",
       "2                     0               0                   0             0   \n",
       "3                     0               0                   0             0   \n",
       "4                     0               0                   0             0   \n",
       "\n",
       "   Landing Ocean  Landing RTLS  \n",
       "0              0             0  \n",
       "1              0             0  \n",
       "2              0             0  \n",
       "3              0             0  \n",
       "4              0             0  "
      ]
     },
     "execution_count": 8,
     "metadata": {},
     "output_type": "execute_result"
    }
   ],
   "source": [
    "spacex_df = main_data_df.copy()\n",
    "spacex_df.head()"
   ]
  },
  {
   "cell_type": "markdown",
   "id": "58046a3e",
   "metadata": {},
   "source": [
    "                                       **# CLASSIFICATION MODELS FOR LANDING DATA #**"
   ]
  },
  {
   "cell_type": "code",
   "execution_count": 9,
   "id": "0815552b",
   "metadata": {},
   "outputs": [],
   "source": [
    "land_cols = [\"Payload (Kg)\", \"Failed Landing\",\"Successful Landing\",\"Landing ASDS\",\"Landing RTLS\",\"Landing Ocean\"]\n",
    "# We need to get dummy variables for launch site, rocket and orbit #\n",
    "temp_df = pd.get_dummies(spacex_df,columns=[\"Rocket\",\"Orbit\"])\n",
    "temp_df[land_cols] = spacex_df[land_cols]"
   ]
  },
  {
   "cell_type": "code",
   "execution_count": 10,
   "id": "041925c3",
   "metadata": {},
   "outputs": [
    {
     "data": {
      "text/html": [
       "<div>\n",
       "<style scoped>\n",
       "    .dataframe tbody tr th:only-of-type {\n",
       "        vertical-align: middle;\n",
       "    }\n",
       "\n",
       "    .dataframe tbody tr th {\n",
       "        vertical-align: top;\n",
       "    }\n",
       "\n",
       "    .dataframe thead th {\n",
       "        text-align: right;\n",
       "    }\n",
       "</style>\n",
       "<table border=\"1\" class=\"dataframe\">\n",
       "  <thead>\n",
       "    <tr style=\"text-align: right;\">\n",
       "      <th></th>\n",
       "      <th>Unnamed: 0</th>\n",
       "      <th>Date</th>\n",
       "      <th>Launch Site</th>\n",
       "      <th>Launch Latitude</th>\n",
       "      <th>Launch Longitude</th>\n",
       "      <th>Flight Number</th>\n",
       "      <th>Flight</th>\n",
       "      <th>Payload (Kg)</th>\n",
       "      <th>Land Site</th>\n",
       "      <th>Failed Launch</th>\n",
       "      <th>Successful Launch</th>\n",
       "      <th>gridfins_False</th>\n",
       "      <th>gridfins_True</th>\n",
       "      <th>legs_False</th>\n",
       "      <th>legs_True</th>\n",
       "      <th>reused_False</th>\n",
       "      <th>reused_True</th>\n",
       "      <th>landing_attempt_False</th>\n",
       "      <th>landing_attempt_True</th>\n",
       "      <th>Failed Landing</th>\n",
       "      <th>Successful Landing</th>\n",
       "      <th>Landing ASDS</th>\n",
       "      <th>Landing Ocean</th>\n",
       "      <th>Landing RTLS</th>\n",
       "      <th>Rocket_Falcon 1</th>\n",
       "      <th>Rocket_Falcon 9</th>\n",
       "      <th>Orbit_ES-L1</th>\n",
       "      <th>Orbit_GEO</th>\n",
       "      <th>Orbit_GTO</th>\n",
       "      <th>Orbit_HEO</th>\n",
       "      <th>Orbit_ISS</th>\n",
       "      <th>Orbit_LEO</th>\n",
       "      <th>Orbit_MEO</th>\n",
       "      <th>Orbit_PO</th>\n",
       "      <th>Orbit_SO</th>\n",
       "      <th>Orbit_SSO</th>\n",
       "      <th>Orbit_TLI</th>\n",
       "      <th>Orbit_VLEO</th>\n",
       "    </tr>\n",
       "  </thead>\n",
       "  <tbody>\n",
       "    <tr>\n",
       "      <th>0</th>\n",
       "      <td>0</td>\n",
       "      <td>2006-03-24</td>\n",
       "      <td>Kwajalein Atoll</td>\n",
       "      <td>9.047721</td>\n",
       "      <td>167.743129</td>\n",
       "      <td>1</td>\n",
       "      <td>1</td>\n",
       "      <td>20.00</td>\n",
       "      <td>NaN</td>\n",
       "      <td>1</td>\n",
       "      <td>0</td>\n",
       "      <td>1</td>\n",
       "      <td>0</td>\n",
       "      <td>1</td>\n",
       "      <td>0</td>\n",
       "      <td>1</td>\n",
       "      <td>0</td>\n",
       "      <td>1</td>\n",
       "      <td>0</td>\n",
       "      <td>0</td>\n",
       "      <td>0</td>\n",
       "      <td>0</td>\n",
       "      <td>0</td>\n",
       "      <td>0</td>\n",
       "      <td>1</td>\n",
       "      <td>0</td>\n",
       "      <td>0</td>\n",
       "      <td>0</td>\n",
       "      <td>0</td>\n",
       "      <td>0</td>\n",
       "      <td>0</td>\n",
       "      <td>1</td>\n",
       "      <td>0</td>\n",
       "      <td>0</td>\n",
       "      <td>0</td>\n",
       "      <td>0</td>\n",
       "      <td>0</td>\n",
       "      <td>0</td>\n",
       "    </tr>\n",
       "    <tr>\n",
       "      <th>1</th>\n",
       "      <td>1</td>\n",
       "      <td>2007-03-21</td>\n",
       "      <td>Kwajalein Atoll</td>\n",
       "      <td>9.047721</td>\n",
       "      <td>167.743129</td>\n",
       "      <td>2</td>\n",
       "      <td>1</td>\n",
       "      <td>128.33</td>\n",
       "      <td>NaN</td>\n",
       "      <td>1</td>\n",
       "      <td>0</td>\n",
       "      <td>1</td>\n",
       "      <td>0</td>\n",
       "      <td>1</td>\n",
       "      <td>0</td>\n",
       "      <td>1</td>\n",
       "      <td>0</td>\n",
       "      <td>1</td>\n",
       "      <td>0</td>\n",
       "      <td>0</td>\n",
       "      <td>0</td>\n",
       "      <td>0</td>\n",
       "      <td>0</td>\n",
       "      <td>0</td>\n",
       "      <td>1</td>\n",
       "      <td>0</td>\n",
       "      <td>0</td>\n",
       "      <td>0</td>\n",
       "      <td>0</td>\n",
       "      <td>0</td>\n",
       "      <td>0</td>\n",
       "      <td>1</td>\n",
       "      <td>0</td>\n",
       "      <td>0</td>\n",
       "      <td>0</td>\n",
       "      <td>0</td>\n",
       "      <td>0</td>\n",
       "      <td>0</td>\n",
       "    </tr>\n",
       "    <tr>\n",
       "      <th>2</th>\n",
       "      <td>2</td>\n",
       "      <td>2008-09-28</td>\n",
       "      <td>Kwajalein Atoll</td>\n",
       "      <td>9.047721</td>\n",
       "      <td>167.743129</td>\n",
       "      <td>4</td>\n",
       "      <td>1</td>\n",
       "      <td>165.00</td>\n",
       "      <td>NaN</td>\n",
       "      <td>0</td>\n",
       "      <td>1</td>\n",
       "      <td>1</td>\n",
       "      <td>0</td>\n",
       "      <td>1</td>\n",
       "      <td>0</td>\n",
       "      <td>1</td>\n",
       "      <td>0</td>\n",
       "      <td>1</td>\n",
       "      <td>0</td>\n",
       "      <td>0</td>\n",
       "      <td>0</td>\n",
       "      <td>0</td>\n",
       "      <td>0</td>\n",
       "      <td>0</td>\n",
       "      <td>1</td>\n",
       "      <td>0</td>\n",
       "      <td>0</td>\n",
       "      <td>0</td>\n",
       "      <td>0</td>\n",
       "      <td>0</td>\n",
       "      <td>0</td>\n",
       "      <td>1</td>\n",
       "      <td>0</td>\n",
       "      <td>0</td>\n",
       "      <td>0</td>\n",
       "      <td>0</td>\n",
       "      <td>0</td>\n",
       "      <td>0</td>\n",
       "    </tr>\n",
       "    <tr>\n",
       "      <th>3</th>\n",
       "      <td>3</td>\n",
       "      <td>2009-07-13</td>\n",
       "      <td>Kwajalein Atoll</td>\n",
       "      <td>9.047721</td>\n",
       "      <td>167.743129</td>\n",
       "      <td>5</td>\n",
       "      <td>1</td>\n",
       "      <td>200.00</td>\n",
       "      <td>NaN</td>\n",
       "      <td>0</td>\n",
       "      <td>1</td>\n",
       "      <td>1</td>\n",
       "      <td>0</td>\n",
       "      <td>1</td>\n",
       "      <td>0</td>\n",
       "      <td>1</td>\n",
       "      <td>0</td>\n",
       "      <td>1</td>\n",
       "      <td>0</td>\n",
       "      <td>0</td>\n",
       "      <td>0</td>\n",
       "      <td>0</td>\n",
       "      <td>0</td>\n",
       "      <td>0</td>\n",
       "      <td>1</td>\n",
       "      <td>0</td>\n",
       "      <td>0</td>\n",
       "      <td>0</td>\n",
       "      <td>0</td>\n",
       "      <td>0</td>\n",
       "      <td>0</td>\n",
       "      <td>1</td>\n",
       "      <td>0</td>\n",
       "      <td>0</td>\n",
       "      <td>0</td>\n",
       "      <td>0</td>\n",
       "      <td>0</td>\n",
       "      <td>0</td>\n",
       "    </tr>\n",
       "    <tr>\n",
       "      <th>4</th>\n",
       "      <td>4</td>\n",
       "      <td>2010-06-04</td>\n",
       "      <td>CCSFS SLC 40</td>\n",
       "      <td>28.561857</td>\n",
       "      <td>-80.577366</td>\n",
       "      <td>6</td>\n",
       "      <td>1</td>\n",
       "      <td>7341.20</td>\n",
       "      <td>NaN</td>\n",
       "      <td>0</td>\n",
       "      <td>1</td>\n",
       "      <td>1</td>\n",
       "      <td>0</td>\n",
       "      <td>1</td>\n",
       "      <td>0</td>\n",
       "      <td>1</td>\n",
       "      <td>0</td>\n",
       "      <td>1</td>\n",
       "      <td>0</td>\n",
       "      <td>0</td>\n",
       "      <td>0</td>\n",
       "      <td>0</td>\n",
       "      <td>0</td>\n",
       "      <td>0</td>\n",
       "      <td>0</td>\n",
       "      <td>1</td>\n",
       "      <td>0</td>\n",
       "      <td>0</td>\n",
       "      <td>0</td>\n",
       "      <td>0</td>\n",
       "      <td>0</td>\n",
       "      <td>1</td>\n",
       "      <td>0</td>\n",
       "      <td>0</td>\n",
       "      <td>0</td>\n",
       "      <td>0</td>\n",
       "      <td>0</td>\n",
       "      <td>0</td>\n",
       "    </tr>\n",
       "  </tbody>\n",
       "</table>\n",
       "</div>"
      ],
      "text/plain": [
       "   Unnamed: 0        Date      Launch Site  Launch Latitude  Launch Longitude  \\\n",
       "0           0  2006-03-24  Kwajalein Atoll         9.047721        167.743129   \n",
       "1           1  2007-03-21  Kwajalein Atoll         9.047721        167.743129   \n",
       "2           2  2008-09-28  Kwajalein Atoll         9.047721        167.743129   \n",
       "3           3  2009-07-13  Kwajalein Atoll         9.047721        167.743129   \n",
       "4           4  2010-06-04     CCSFS SLC 40        28.561857        -80.577366   \n",
       "\n",
       "   Flight Number  Flight  Payload (Kg) Land Site  Failed Launch  \\\n",
       "0              1       1         20.00       NaN              1   \n",
       "1              2       1        128.33       NaN              1   \n",
       "2              4       1        165.00       NaN              0   \n",
       "3              5       1        200.00       NaN              0   \n",
       "4              6       1       7341.20       NaN              0   \n",
       "\n",
       "   Successful Launch  gridfins_False  gridfins_True  legs_False  legs_True  \\\n",
       "0                  0               1              0           1          0   \n",
       "1                  0               1              0           1          0   \n",
       "2                  1               1              0           1          0   \n",
       "3                  1               1              0           1          0   \n",
       "4                  1               1              0           1          0   \n",
       "\n",
       "   reused_False  reused_True  landing_attempt_False  landing_attempt_True  \\\n",
       "0             1            0                      1                     0   \n",
       "1             1            0                      1                     0   \n",
       "2             1            0                      1                     0   \n",
       "3             1            0                      1                     0   \n",
       "4             1            0                      1                     0   \n",
       "\n",
       "   Failed Landing  Successful Landing  Landing ASDS  Landing Ocean  \\\n",
       "0               0                   0             0              0   \n",
       "1               0                   0             0              0   \n",
       "2               0                   0             0              0   \n",
       "3               0                   0             0              0   \n",
       "4               0                   0             0              0   \n",
       "\n",
       "   Landing RTLS  Rocket_Falcon 1  Rocket_Falcon 9  Orbit_ES-L1  Orbit_GEO  \\\n",
       "0             0                1                0            0          0   \n",
       "1             0                1                0            0          0   \n",
       "2             0                1                0            0          0   \n",
       "3             0                1                0            0          0   \n",
       "4             0                0                1            0          0   \n",
       "\n",
       "   Orbit_GTO  Orbit_HEO  Orbit_ISS  Orbit_LEO  Orbit_MEO  Orbit_PO  Orbit_SO  \\\n",
       "0          0          0          0          1          0         0         0   \n",
       "1          0          0          0          1          0         0         0   \n",
       "2          0          0          0          1          0         0         0   \n",
       "3          0          0          0          1          0         0         0   \n",
       "4          0          0          0          1          0         0         0   \n",
       "\n",
       "   Orbit_SSO  Orbit_TLI  Orbit_VLEO  \n",
       "0          0          0           0  \n",
       "1          0          0           0  \n",
       "2          0          0           0  \n",
       "3          0          0           0  \n",
       "4          0          0           0  "
      ]
     },
     "execution_count": 10,
     "metadata": {},
     "output_type": "execute_result"
    }
   ],
   "source": [
    "temp_df.head()"
   ]
  },
  {
   "cell_type": "code",
   "execution_count": 11,
   "id": "725b454a",
   "metadata": {},
   "outputs": [],
   "source": [
    "x_var_list = [\"Payload (Kg)\",\"Rocket_Falcon 1\",\"Rocket_Falcon 9\",\"Landing ASDS\",\"Landing RTLS\",\"Landing Ocean\",\n",
    "              \"Orbit_ES-L1\",\"Orbit_HEO\",\"Orbit_ISS\",\"Orbit_LEO\",\"Orbit_MEO\",\"Orbit_PO\",\"Orbit_SO\",\n",
    "             \"Orbit_SSO\",\"Orbit_TLI\",\"Orbit_VLEO\"]\n",
    "x_matrix = temp_df[x_var_list]"
   ]
  },
  {
   "cell_type": "code",
   "execution_count": 12,
   "id": "a899f314",
   "metadata": {},
   "outputs": [],
   "source": [
    "from sklearn.preprocessing import StandardScaler\n",
    "\n",
    "x_matrix = StandardScaler().fit(x_matrix).transform(x_matrix)\n"
   ]
  },
  {
   "cell_type": "code",
   "execution_count": 13,
   "id": "a63c0395",
   "metadata": {},
   "outputs": [],
   "source": [
    "y_list = list(temp_df[\"Successful Landing\"])"
   ]
  },
  {
   "cell_type": "code",
   "execution_count": 14,
   "id": "378ecb7a",
   "metadata": {},
   "outputs": [],
   "source": [
    "from sklearn.model_selection import train_test_split\n",
    "#I will keep the same train and testing data for all classification models to not compromise the comparison"
   ]
  },
  {
   "cell_type": "code",
   "execution_count": 15,
   "id": "62961877",
   "metadata": {},
   "outputs": [],
   "source": [
    "x_train, x_test, y_train, y_test = train_test_split(x_matrix,y_list,test_size=0.35, random_state=4)"
   ]
  },
  {
   "cell_type": "markdown",
   "id": "e50190a7",
   "metadata": {},
   "source": [
    "The dependent variable here is the Successful Landing column."
   ]
  },
  {
   "cell_type": "markdown",
   "id": "fb85a59c",
   "metadata": {},
   "source": [
    "**K-Nearest Neighbour Classification**"
   ]
  },
  {
   "cell_type": "code",
   "execution_count": 16,
   "id": "d776c7cc",
   "metadata": {},
   "outputs": [],
   "source": [
    "from sklearn.neighbors import KNeighborsClassifier"
   ]
  },
  {
   "cell_type": "code",
   "execution_count": 17,
   "id": "661e1737",
   "metadata": {},
   "outputs": [],
   "source": [
    "knn_params = {\"n_neighbors\":np.arange(1,11)}\n",
    "KnNcv = GridSearchCV(KNeighborsClassifier(),knn_params,cv=4)"
   ]
  },
  {
   "cell_type": "code",
   "execution_count": 18,
   "id": "0cf3e102",
   "metadata": {},
   "outputs": [],
   "source": [
    "KnNcv_model = KnNcv.fit(x_train,y_train)\n",
    "kn=KnNcv_model.best_params_[\"n_neighbors\"]"
   ]
  },
  {
   "cell_type": "code",
   "execution_count": 19,
   "id": "810f22c6",
   "metadata": {},
   "outputs": [],
   "source": [
    "KnN = KNeighborsClassifier(n_neighbors=kn)\n",
    "KnN_model = KnN.fit(x_train,y_train)\n"
   ]
  },
  {
   "cell_type": "code",
   "execution_count": 20,
   "id": "bb987074",
   "metadata": {},
   "outputs": [],
   "source": [
    "y_pred = KnN_model.predict(x_test)\n",
    "score_df.loc[\"KNN Classifier\",\"Accuracy Score\"] = accuracy_score(y_test,y_pred)\n",
    "score_df.loc[\"KNN Classifier\",\"Jaccard Score\"] = jaccard_score(y_test,y_pred)\n",
    "score_df.loc[\"KNN Classifier\",\"F1 Score\"] = f1_score(y_test,y_pred)\n",
    "score_df.loc[\"KNN Classifier\",\"Log Loss\"] = \"NaN\""
   ]
  },
  {
   "cell_type": "code",
   "execution_count": 21,
   "id": "795a64d2",
   "metadata": {},
   "outputs": [
    {
     "name": "stdout",
     "output_type": "stream",
     "text": [
      "Normalized confusion matrix\n",
      "[[1.   0.  ]\n",
      " [0.38 0.62]]\n"
     ]
    },
    {
     "data": {
      "image/png": "[encoded data removed]",
      "text/plain": [
       "<Figure size 432x288 with 2 Axes>"
      ]
     },
     "metadata": {
      "needs_background": "light"
     },
     "output_type": "display_data"
    }
   ],
   "source": [
    "cnf_matrix = confusion_matrix(y_test, y_pred, labels=[1,0])\n",
    "np.set_printoptions(precision=2)\n",
    "\n",
    "\n",
    "# Plot normalized confusion matrix\n",
    "plt.figure()\n",
    "plot_confusion_matrix(cnf_matrix, classes=['Successful Landing =1','Unsuccessful Landing =0'],normalize= True,  title='Confusion matrix')"
   ]
  },
  {
   "cell_type": "code",
   "execution_count": 22,
   "id": "42439289",
   "metadata": {},
   "outputs": [
    {
     "data": {
      "text/html": [
       "<div>\n",
       "<style scoped>\n",
       "    .dataframe tbody tr th:only-of-type {\n",
       "        vertical-align: middle;\n",
       "    }\n",
       "\n",
       "    .dataframe tbody tr th {\n",
       "        vertical-align: top;\n",
       "    }\n",
       "\n",
       "    .dataframe thead th {\n",
       "        text-align: right;\n",
       "    }\n",
       "</style>\n",
       "<table border=\"1\" class=\"dataframe\">\n",
       "  <thead>\n",
       "    <tr style=\"text-align: right;\">\n",
       "      <th></th>\n",
       "      <th>Accuracy Score</th>\n",
       "      <th>F1 Score</th>\n",
       "      <th>Jaccard Score</th>\n",
       "      <th>Log Loss</th>\n",
       "    </tr>\n",
       "  </thead>\n",
       "  <tbody>\n",
       "    <tr>\n",
       "      <th>KNN Classifier</th>\n",
       "      <td>0.866667</td>\n",
       "      <td>0.90625</td>\n",
       "      <td>0.828571</td>\n",
       "      <td>NaN</td>\n",
       "    </tr>\n",
       "  </tbody>\n",
       "</table>\n",
       "</div>"
      ],
      "text/plain": [
       "               Accuracy Score F1 Score Jaccard Score Log Loss\n",
       "KNN Classifier       0.866667  0.90625      0.828571      NaN"
      ]
     },
     "execution_count": 22,
     "metadata": {},
     "output_type": "execute_result"
    }
   ],
   "source": [
    "score_df"
   ]
  },
  {
   "cell_type": "markdown",
   "id": "305f0d22",
   "metadata": {},
   "source": [
    "**DECISION TREE CLASSIFICATION**"
   ]
  },
  {
   "cell_type": "code",
   "execution_count": 23,
   "id": "9da11f01",
   "metadata": {},
   "outputs": [],
   "source": [
    "from sklearn.tree import DecisionTreeClassifier"
   ]
  },
  {
   "cell_type": "code",
   "execution_count": 24,
   "id": "0ab86302",
   "metadata": {},
   "outputs": [],
   "source": [
    "tree_params = {\"criterion\":[\"entropy\"],\"max_depth\":np.arange(1,5)}\n",
    "decTree = DecisionTreeClassifier()\n",
    "treeGScv = GridSearchCV(decTree,tree_params,cv=4)"
   ]
  },
  {
   "cell_type": "code",
   "execution_count": 25,
   "id": "64111720",
   "metadata": {},
   "outputs": [
    {
     "data": {
      "text/plain": [
       "GridSearchCV(cv=4, estimator=DecisionTreeClassifier(),\n",
       "             param_grid={'criterion': ['entropy'],\n",
       "                         'max_depth': array([1, 2, 3, 4])})"
      ]
     },
     "execution_count": 25,
     "metadata": {},
     "output_type": "execute_result"
    }
   ],
   "source": [
    "treeGScv.fit(x_train,y_train)"
   ]
  },
  {
   "cell_type": "code",
   "execution_count": 26,
   "id": "36196df3",
   "metadata": {},
   "outputs": [
    {
     "data": {
      "text/plain": [
       "{'criterion': 'entropy', 'max_depth': 3}"
      ]
     },
     "execution_count": 26,
     "metadata": {},
     "output_type": "execute_result"
    }
   ],
   "source": [
    "treeGScv.best_params_"
   ]
  },
  {
   "cell_type": "code",
   "execution_count": 27,
   "id": "b219f4ef",
   "metadata": {},
   "outputs": [],
   "source": [
    "land_tree = DecisionTreeClassifier(max_depth=3,criterion=\"entropy\")\n",
    "treemodel = land_tree.fit(x_train,y_train)\n",
    "y_pred_tree = treemodel.predict(x_test)"
   ]
  },
  {
   "cell_type": "code",
   "execution_count": 28,
   "id": "256b6245",
   "metadata": {},
   "outputs": [],
   "source": [
    "score_df.loc[\"Decision Tree Classifier\",\"Accuracy Score\"] = accuracy_score(y_test,y_pred_tree)\n",
    "score_df.loc[\"Decision Tree Classifier\",\"Jaccard Score\"] = jaccard_score(y_test,y_pred_tree)\n",
    "score_df.loc[\"Decision Tree Classifier\",\"F1 Score\"] = f1_score(y_test,y_pred_tree)\n",
    "score_df.loc[\"Decision Tree Classifier\",\"Log Loss\"] = \"NaN\""
   ]
  },
  {
   "cell_type": "code",
   "execution_count": 29,
   "id": "75011b98",
   "metadata": {},
   "outputs": [
    {
     "data": {
      "text/html": [
       "<div>\n",
       "<style scoped>\n",
       "    .dataframe tbody tr th:only-of-type {\n",
       "        vertical-align: middle;\n",
       "    }\n",
       "\n",
       "    .dataframe tbody tr th {\n",
       "        vertical-align: top;\n",
       "    }\n",
       "\n",
       "    .dataframe thead th {\n",
       "        text-align: right;\n",
       "    }\n",
       "</style>\n",
       "<table border=\"1\" class=\"dataframe\">\n",
       "  <thead>\n",
       "    <tr style=\"text-align: right;\">\n",
       "      <th></th>\n",
       "      <th>Accuracy Score</th>\n",
       "      <th>F1 Score</th>\n",
       "      <th>Jaccard Score</th>\n",
       "      <th>Log Loss</th>\n",
       "    </tr>\n",
       "  </thead>\n",
       "  <tbody>\n",
       "    <tr>\n",
       "      <th>KNN Classifier</th>\n",
       "      <td>0.866667</td>\n",
       "      <td>0.90625</td>\n",
       "      <td>0.828571</td>\n",
       "      <td>NaN</td>\n",
       "    </tr>\n",
       "    <tr>\n",
       "      <th>Decision Tree Classifier</th>\n",
       "      <td>0.888889</td>\n",
       "      <td>0.920635</td>\n",
       "      <td>0.852941</td>\n",
       "      <td>NaN</td>\n",
       "    </tr>\n",
       "  </tbody>\n",
       "</table>\n",
       "</div>"
      ],
      "text/plain": [
       "                         Accuracy Score  F1 Score Jaccard Score Log Loss\n",
       "KNN Classifier                 0.866667   0.90625      0.828571      NaN\n",
       "Decision Tree Classifier       0.888889  0.920635      0.852941      NaN"
      ]
     },
     "execution_count": 29,
     "metadata": {},
     "output_type": "execute_result"
    }
   ],
   "source": [
    "score_df"
   ]
  },
  {
   "cell_type": "code",
   "execution_count": 30,
   "id": "9d6641bd",
   "metadata": {},
   "outputs": [],
   "source": [
    "from  io import StringIO\n",
    "import pydotplus\n",
    "import matplotlib.image as mpimg\n",
    "from sklearn import tree\n",
    "%matplotlib inline \n",
    "import matplotlib.pyplot as plt"
   ]
  },
  {
   "cell_type": "code",
   "execution_count": 31,
   "id": "f7b4e7e4",
   "metadata": {},
   "outputs": [
    {
     "data": {
      "text/plain": [
       "<matplotlib.image.AxesImage at 0x21a2b1d4610>"
      ]
     },
     "execution_count": 31,
     "metadata": {},
     "output_type": "execute_result"
    },
    {
     "data": {
      "image/png": "[encoded data removed]",
      "text/plain": [
       "<Figure size 2880x5400 with 1 Axes>"
      ]
     },
     "metadata": {
      "needs_background": "light"
     },
     "output_type": "display_data"
    }
   ],
   "source": [
    "dot_data = StringIO()\n",
    "filename = \"landtree.png\"\n",
    "out=tree.export_graphviz(treemodel,feature_names=list(x_var_list), out_file=dot_data, class_names= ['Successful Landing','Unsuccessful Landing'], filled=True,  special_characters=True,rotate=False)  \n",
    "graph = pydotplus.graph_from_dot_data(dot_data.getvalue())  \n",
    "graph.write_png(filename)\n",
    "img = mpimg.imread(filename)\n",
    "plt.figure(figsize=(40, 75))\n",
    "plt.imshow(img,interpolation='nearest')"
   ]
  },
  {
   "cell_type": "code",
   "execution_count": 32,
   "id": "593cb80a",
   "metadata": {},
   "outputs": [
    {
     "name": "stdout",
     "output_type": "stream",
     "text": [
      "Normalized confusion matrix\n",
      "[[1.   0.  ]\n",
      " [0.31 0.69]]\n"
     ]
    },
    {
     "data": {
      "image/png": "[encoded data removed]",
      "text/plain": [
       "<Figure size 432x288 with 2 Axes>"
      ]
     },
     "metadata": {
      "needs_background": "light"
     },
     "output_type": "display_data"
    }
   ],
   "source": [
    "cnf_matrix = confusion_matrix(y_test, y_pred_tree, labels=[1,0])\n",
    "np.set_printoptions(precision=2)\n",
    "\n",
    "\n",
    "# Plot normalized confusion matrix\n",
    "plt.figure()\n",
    "plot_confusion_matrix(cnf_matrix, classes=['Successful Landing =1','Unsuccessful Landing =0'],normalize= True,  title='Confusion matrix')"
   ]
  },
  {
   "cell_type": "code",
   "execution_count": 33,
   "id": "207403a1",
   "metadata": {},
   "outputs": [
    {
     "name": "stdout",
     "output_type": "stream",
     "text": [
      "              precision    recall  f1-score   support\n",
      "\n",
      "           0       1.00      0.69      0.81        16\n",
      "           1       0.85      1.00      0.92        29\n",
      "\n",
      "    accuracy                           0.89        45\n",
      "   macro avg       0.93      0.84      0.87        45\n",
      "weighted avg       0.91      0.89      0.88        45\n",
      "\n"
     ]
    }
   ],
   "source": [
    "print(classification_report(y_test,y_pred_tree))"
   ]
  },
  {
   "cell_type": "markdown",
   "id": "fee005aa",
   "metadata": {},
   "source": [
    "**SUPPORT VECTOR MACHINES**"
   ]
  },
  {
   "cell_type": "code",
   "execution_count": 34,
   "id": "03204c2f",
   "metadata": {},
   "outputs": [],
   "source": [
    "from sklearn import svm"
   ]
  },
  {
   "cell_type": "code",
   "execution_count": 35,
   "id": "f3cc7edc",
   "metadata": {},
   "outputs": [],
   "source": [
    "params_svm = {\"kernel\":[\"linear\", \"poly\", \"rbf\", \"sigmoid\"]}\n",
    "svmGrdCV = GridSearchCV(svm.SVC(),params_svm,cv=4)\n",
    "svmGrdCV_model = svmGrdCV.fit(x_train,y_train)"
   ]
  },
  {
   "cell_type": "code",
   "execution_count": 36,
   "id": "94cdd265",
   "metadata": {},
   "outputs": [
    {
     "data": {
      "text/plain": [
       "{'kernel': 'linear'}"
      ]
     },
     "execution_count": 36,
     "metadata": {},
     "output_type": "execute_result"
    }
   ],
   "source": [
    "svmGrdCV_model.best_params_"
   ]
  },
  {
   "cell_type": "code",
   "execution_count": 37,
   "id": "e2f56026",
   "metadata": {},
   "outputs": [],
   "source": [
    "y_pred_svm = svmGrdCV_model.predict(x_test)\n",
    "score_df.loc[\"Support Vector Classifier\",\"Accuracy Score\"] = accuracy_score(y_test,y_pred_svm)\n",
    "score_df.loc[\"Support Vector Classifier\",\"Jaccard Score\"] = jaccard_score(y_test,y_pred_svm)\n",
    "score_df.loc[\"Support Vector Classifier\",\"F1 Score\"] = f1_score(y_test,y_pred_svm)\n",
    "score_df.loc[\"Support Vector Classifier\",\"Log Loss\"] = \"NaN\""
   ]
  },
  {
   "cell_type": "code",
   "execution_count": 38,
   "id": "88297baa",
   "metadata": {},
   "outputs": [
    {
     "name": "stdout",
     "output_type": "stream",
     "text": [
      "Normalized confusion matrix\n",
      "[[1.   0.  ]\n",
      " [0.31 0.69]]\n"
     ]
    },
    {
     "data": {
      "image/png": "[encoded data removed]",
      "text/plain": [
       "<Figure size 432x288 with 2 Axes>"
      ]
     },
     "metadata": {
      "needs_background": "light"
     },
     "output_type": "display_data"
    }
   ],
   "source": [
    "cnf_matrix = confusion_matrix(y_test, y_pred_svm, labels=[1,0])\n",
    "np.set_printoptions(precision=2)\n",
    "\n",
    "\n",
    "# Plot normalized confusion matrix\n",
    "plt.figure()\n",
    "plot_confusion_matrix(cnf_matrix, classes=['Successful Landing =1','Unsuccessful Landing =0'],normalize= True,  title='Confusion matrix')"
   ]
  },
  {
   "cell_type": "code",
   "execution_count": 39,
   "id": "041ae86b",
   "metadata": {},
   "outputs": [
    {
     "data": {
      "text/html": [
       "<div>\n",
       "<style scoped>\n",
       "    .dataframe tbody tr th:only-of-type {\n",
       "        vertical-align: middle;\n",
       "    }\n",
       "\n",
       "    .dataframe tbody tr th {\n",
       "        vertical-align: top;\n",
       "    }\n",
       "\n",
       "    .dataframe thead th {\n",
       "        text-align: right;\n",
       "    }\n",
       "</style>\n",
       "<table border=\"1\" class=\"dataframe\">\n",
       "  <thead>\n",
       "    <tr style=\"text-align: right;\">\n",
       "      <th></th>\n",
       "      <th>Accuracy Score</th>\n",
       "      <th>F1 Score</th>\n",
       "      <th>Jaccard Score</th>\n",
       "      <th>Log Loss</th>\n",
       "    </tr>\n",
       "  </thead>\n",
       "  <tbody>\n",
       "    <tr>\n",
       "      <th>KNN Classifier</th>\n",
       "      <td>0.866667</td>\n",
       "      <td>0.90625</td>\n",
       "      <td>0.828571</td>\n",
       "      <td>NaN</td>\n",
       "    </tr>\n",
       "    <tr>\n",
       "      <th>Decision Tree Classifier</th>\n",
       "      <td>0.888889</td>\n",
       "      <td>0.920635</td>\n",
       "      <td>0.852941</td>\n",
       "      <td>NaN</td>\n",
       "    </tr>\n",
       "    <tr>\n",
       "      <th>Support Vector Classifier</th>\n",
       "      <td>0.888889</td>\n",
       "      <td>0.920635</td>\n",
       "      <td>0.852941</td>\n",
       "      <td>NaN</td>\n",
       "    </tr>\n",
       "  </tbody>\n",
       "</table>\n",
       "</div>"
      ],
      "text/plain": [
       "                          Accuracy Score  F1 Score Jaccard Score Log Loss\n",
       "KNN Classifier                  0.866667   0.90625      0.828571      NaN\n",
       "Decision Tree Classifier        0.888889  0.920635      0.852941      NaN\n",
       "Support Vector Classifier       0.888889  0.920635      0.852941      NaN"
      ]
     },
     "execution_count": 39,
     "metadata": {},
     "output_type": "execute_result"
    }
   ],
   "source": [
    "score_df"
   ]
  },
  {
   "cell_type": "markdown",
   "id": "4fa3d30f",
   "metadata": {},
   "source": [
    "**Logistic Regression Classifier**"
   ]
  },
  {
   "cell_type": "markdown",
   "id": "925c5ca5",
   "metadata": {},
   "source": [
    "This is the classification method based on the sigmoid function . There are not any parameters that we need to permute over, so the Grid Search Cross Validation would be redundant. We use the liblinear solver."
   ]
  },
  {
   "cell_type": "code",
   "execution_count": 40,
   "id": "289aabeb",
   "metadata": {},
   "outputs": [],
   "source": [
    "from sklearn.linear_model import LogisticRegression"
   ]
  },
  {
   "cell_type": "code",
   "execution_count": 41,
   "id": "a917f431",
   "metadata": {},
   "outputs": [],
   "source": [
    "logreg = LogisticRegression(C=0.01,solver=\"liblinear\")\n",
    "logreg_model = logreg.fit(x_train,y_train)\n",
    "y_pred_prob = logreg_model.predict_proba(x_test)\n",
    "y_pred_logreg = logreg_model.predict(x_test)"
   ]
  },
  {
   "cell_type": "code",
   "execution_count": 42,
   "id": "54eceb65",
   "metadata": {},
   "outputs": [],
   "source": [
    "score_df.loc[\"Logistic Regression Classifier\",\"Accuracy Score\"] = accuracy_score(y_test,y_pred_logreg)\n",
    "score_df.loc[\"Logistic Regression Classifier\",\"Jaccard Score\"] = jaccard_score(y_test,y_pred_logreg)\n",
    "score_df.loc[\"Logistic Regression Classifier\",\"F1 Score\"] = f1_score(y_test,y_pred_logreg)\n",
    "score_df.loc[\"Logistic Regression Classifier\",\"Log Loss\"] = log_loss(y_test,y_pred_prob)"
   ]
  },
  {
   "cell_type": "code",
   "execution_count": 43,
   "id": "01a306cc",
   "metadata": {},
   "outputs": [
    {
     "data": {
      "text/html": [
       "<div>\n",
       "<style scoped>\n",
       "    .dataframe tbody tr th:only-of-type {\n",
       "        vertical-align: middle;\n",
       "    }\n",
       "\n",
       "    .dataframe tbody tr th {\n",
       "        vertical-align: top;\n",
       "    }\n",
       "\n",
       "    .dataframe thead th {\n",
       "        text-align: right;\n",
       "    }\n",
       "</style>\n",
       "<table border=\"1\" class=\"dataframe\">\n",
       "  <thead>\n",
       "    <tr style=\"text-align: right;\">\n",
       "      <th></th>\n",
       "      <th>Accuracy Score</th>\n",
       "      <th>F1 Score</th>\n",
       "      <th>Jaccard Score</th>\n",
       "      <th>Log Loss</th>\n",
       "    </tr>\n",
       "  </thead>\n",
       "  <tbody>\n",
       "    <tr>\n",
       "      <th>KNN Classifier</th>\n",
       "      <td>0.866667</td>\n",
       "      <td>0.90625</td>\n",
       "      <td>0.828571</td>\n",
       "      <td>NaN</td>\n",
       "    </tr>\n",
       "    <tr>\n",
       "      <th>Decision Tree Classifier</th>\n",
       "      <td>0.888889</td>\n",
       "      <td>0.920635</td>\n",
       "      <td>0.852941</td>\n",
       "      <td>NaN</td>\n",
       "    </tr>\n",
       "    <tr>\n",
       "      <th>Support Vector Classifier</th>\n",
       "      <td>0.888889</td>\n",
       "      <td>0.920635</td>\n",
       "      <td>0.852941</td>\n",
       "      <td>NaN</td>\n",
       "    </tr>\n",
       "    <tr>\n",
       "      <th>Logistic Regression Classifier</th>\n",
       "      <td>0.822222</td>\n",
       "      <td>0.862069</td>\n",
       "      <td>0.757576</td>\n",
       "      <td>0.624098</td>\n",
       "    </tr>\n",
       "  </tbody>\n",
       "</table>\n",
       "</div>"
      ],
      "text/plain": [
       "                               Accuracy Score  F1 Score Jaccard Score  \\\n",
       "KNN Classifier                       0.866667   0.90625      0.828571   \n",
       "Decision Tree Classifier             0.888889  0.920635      0.852941   \n",
       "Support Vector Classifier            0.888889  0.920635      0.852941   \n",
       "Logistic Regression Classifier       0.822222  0.862069      0.757576   \n",
       "\n",
       "                                Log Loss  \n",
       "KNN Classifier                       NaN  \n",
       "Decision Tree Classifier             NaN  \n",
       "Support Vector Classifier            NaN  \n",
       "Logistic Regression Classifier  0.624098  "
      ]
     },
     "execution_count": 43,
     "metadata": {},
     "output_type": "execute_result"
    }
   ],
   "source": [
    "score_df"
   ]
  },
  {
   "cell_type": "code",
   "execution_count": 44,
   "id": "c0a34fea",
   "metadata": {},
   "outputs": [],
   "source": [
    "import matplotlib.pyplot as plt\n",
    "plt.style.use(\"ggplot\")"
   ]
  },
  {
   "cell_type": "code",
   "execution_count": 45,
   "id": "ab7a17b6",
   "metadata": {},
   "outputs": [
    {
     "data": {
      "text/plain": [
       "Text(0.5, 1.0, 'Classification Scores of Supervised Classification Models')"
      ]
     },
     "execution_count": 45,
     "metadata": {},
     "output_type": "execute_result"
    },
    {
     "data": {
      "image/png": "[encoded data removed]",
      "text/plain": [
       "<Figure size 1080x720 with 1 Axes>"
      ]
     },
     "metadata": {},
     "output_type": "display_data"
    }
   ],
   "source": [
    "fig,ax = plt.subplots(figsize=(15,10))\n",
    "score_df.plot(kind=\"bar\",ax=ax)\n",
    "plt.title(\"Classification Scores of Supervised Classification Models\")"
   ]
  },
  {
   "cell_type": "code",
   "execution_count": 48,
   "id": "bc19b58a",
   "metadata": {},
   "outputs": [
    {
     "data": {
      "text/plain": [
       "array([ True,  True,  True,  True,  True,  True,  True,  True,  True,\n",
       "        True,  True,  True,  True,  True,  True,  True,  True,  True,\n",
       "        True,  True,  True,  True,  True,  True,  True,  True,  True,\n",
       "        True,  True,  True,  True,  True,  True,  True,  True,  True,\n",
       "        True,  True,  True,  True,  True,  True,  True,  True,  True])"
      ]
     },
     "execution_count": 48,
     "metadata": {},
     "output_type": "execute_result"
    }
   ],
   "source": [
    "y_pred_svm == y_pred_tree"
   ]
  },
  {
   "cell_type": "code",
   "execution_count": null,
   "id": "c174bf80",
   "metadata": {},
   "outputs": [],
   "source": []
  }
 ],
 "metadata": {
  "kernelspec": {
   "display_name": "Python 3",
   "language": "python",
   "name": "python3"
  },
  "language_info": {
   "codemirror_mode": {
    "name": "ipython",
    "version": 3
   },
   "file_extension": ".py",
   "mimetype": "text/x-python",
   "name": "python",
   "nbconvert_exporter": "python",
   "pygments_lexer": "ipython3",
   "version": "3.8.8"
  }
 },
 "nbformat": 4,
 "nbformat_minor": 5
}
