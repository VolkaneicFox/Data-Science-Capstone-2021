{
 "cells": [
  {
   "cell_type": "code",
   "execution_count": 7,
   "id": "08562e0c",
   "metadata": {},
   "outputs": [],
   "source": [
    "import pandas as pd\n",
    "from pandasql import sqldf"
   ]
  },
  {
   "cell_type": "code",
   "execution_count": 51,
   "id": "50aea7ea",
   "metadata": {},
   "outputs": [],
   "source": [
    "spacex_df = pd.read_csv(\"spacex_df_cap.csv\")"
   ]
  },
  {
   "cell_type": "code",
   "execution_count": 52,
   "id": "11078928",
   "metadata": {},
   "outputs": [],
   "source": [
    "pysql = lambda q: sqldf(q,globals())"
   ]
  },
  {
   "cell_type": "code",
   "execution_count": 57,
   "id": "e6b8c42b",
   "metadata": {},
   "outputs": [],
   "source": [
    "#q = \"\"\"SELECT DISTINCT launchpad FROM spacex_df\"\"\"\n",
    "#q = \"\"\"SELECT * FROM spacex_df WHERE launchpad LIKE '%CCS%' LIMIT 5 \"\"\"\n",
    "#q = \"\"\"SELECT flight_number, rocket, launchpad, orbit, mass_kg FROM spacex_df WHERE landing_success_True=1\"\"\"\n",
    "#q = \"\"\"SELECT rocket, COUNT(rocket) FROM spacex_df GROUP BY rocket \"\"\"\n",
    "#q = \"\"\"SELECT AVG(mass_kg) FROM spacex_df\"\"\"\n",
    "#q = \"\"\"SELECT orbit, COUNT(orbit) FROM spacex_df GROUP BY orbit\"\"\"\n",
    "q = \"\"\"SELECT SUM(landing_type_RTLS) FROM spacex_df \"\"\""
   ]
  },
  {
   "cell_type": "code",
   "execution_count": 58,
   "id": "2bb286bc",
   "metadata": {},
   "outputs": [
    {
     "data": {
      "text/html": [
       "<div>\n",
       "<style scoped>\n",
       "    .dataframe tbody tr th:only-of-type {\n",
       "        vertical-align: middle;\n",
       "    }\n",
       "\n",
       "    .dataframe tbody tr th {\n",
       "        vertical-align: top;\n",
       "    }\n",
       "\n",
       "    .dataframe thead th {\n",
       "        text-align: right;\n",
       "    }\n",
       "</style>\n",
       "<table border=\"1\" class=\"dataframe\">\n",
       "  <thead>\n",
       "    <tr style=\"text-align: right;\">\n",
       "      <th></th>\n",
       "      <th>SUM(landing_type_RTLS)</th>\n",
       "    </tr>\n",
       "  </thead>\n",
       "  <tbody>\n",
       "    <tr>\n",
       "      <th>0</th>\n",
       "      <td>18</td>\n",
       "    </tr>\n",
       "  </tbody>\n",
       "</table>\n",
       "</div>"
      ],
      "text/plain": [
       "   SUM(landing_type_RTLS)\n",
       "0                      18"
      ]
     },
     "execution_count": 58,
     "metadata": {},
     "output_type": "execute_result"
    }
   ],
   "source": [
    "pysql(q)"
   ]
  },
  {
   "cell_type": "code",
   "execution_count": null,
   "id": "a0d94e58",
   "metadata": {},
   "outputs": [],
   "source": []
  }
 ],
 "metadata": {
  "kernelspec": {
   "display_name": "Python 3",
   "language": "python",
   "name": "python3"
  },
  "language_info": {
   "codemirror_mode": {
    "name": "ipython",
    "version": 3
   },
   "file_extension": ".py",
   "mimetype": "text/x-python",
   "name": "python",
   "nbconvert_exporter": "python",
   "pygments_lexer": "ipython3",
   "version": "3.8.8"
  }
 },
 "nbformat": 4,
 "nbformat_minor": 5
}
